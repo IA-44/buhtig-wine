{
 "cells": [
  {
   "cell_type": "code",
   "execution_count": 1,
   "id": "12ae7f3d",
   "metadata": {},
   "outputs": [
    {
     "data": {
      "application/javascript": [
       "$.getScript('https://kmahelona.github.io/ipython_notebook_goodies/ipython_notebook_toc.js')\n"
      ],
      "text/plain": [
       "<IPython.core.display.Javascript object>"
      ]
     },
     "metadata": {},
     "output_type": "display_data"
    }
   ],
   "source": [
    "%%javascript\n",
    "$.getScript('https://kmahelona.github.io/ipython_notebook_goodies/ipython_notebook_toc.js')"
   ]
  },
  {
   "cell_type": "markdown",
   "id": "896f8e91",
   "metadata": {},
   "source": [
    "<h1 id=\"tocheading\">Sommaire</h1>\n",
    "<div id=\"toc\"></div>"
   ]
  },
  {
   "cell_type": "markdown",
   "id": "684730f5",
   "metadata": {},
   "source": [
    "# Chargement des librairies et fichiers excel"
   ]
  },
  {
   "cell_type": "code",
   "execution_count": 2,
   "id": "1bb048fc",
   "metadata": {},
   "outputs": [],
   "source": [
    "import pandas as pd\n",
    "import numpy as np\n",
    "import matplotlib.pyplot as plt"
   ]
  },
  {
   "cell_type": "code",
   "execution_count": 3,
   "id": "d8acf9f3",
   "metadata": {},
   "outputs": [
    {
     "name": "stderr",
     "output_type": "stream",
     "text": [
      "/Users/ismaelh/opt/anaconda3/lib/python3.9/site-packages/openpyxl/worksheet/_reader.py:312: UserWarning: Unknown extension is not supported and will be removed\n",
      "  warn(msg)\n"
     ]
    }
   ],
   "source": [
    "web = pd.read_excel('/Users/ismaelh/Documents/Data Analyst/Projet 5/web.xlsx')"
   ]
  },
  {
   "cell_type": "code",
   "execution_count": 4,
   "id": "69f30b63",
   "metadata": {},
   "outputs": [],
   "source": [
    "erp = pd.read_excel('/Users/ismaelh/Documents/Data Analyst/Projet 5/erp.xlsx')"
   ]
  },
  {
   "cell_type": "code",
   "execution_count": 5,
   "id": "f2dd98f0",
   "metadata": {},
   "outputs": [],
   "source": [
    "liaison = pd.read_excel('/Users/ismaelh/Documents/Data Analyst/Projet 5/liaison.xlsx')"
   ]
  },
  {
   "cell_type": "markdown",
   "id": "cecfd4de",
   "metadata": {},
   "source": [
    "# Nettoyage des données"
   ]
  },
  {
   "cell_type": "code",
   "execution_count": 6,
   "id": "1b7cbd60",
   "metadata": {},
   "outputs": [],
   "source": [
    "# Changement du nom de la colonne du df liaison pour la correspondance avec le df web\n",
    "\n",
    "liaison.rename(columns = {'id_web':'sku'}, inplace = True)"
   ]
  },
  {
   "cell_type": "code",
   "execution_count": 7,
   "id": "78a36201",
   "metadata": {},
   "outputs": [
    {
     "data": {
      "text/plain": [
       "(1513, 28)"
      ]
     },
     "execution_count": 7,
     "metadata": {},
     "output_type": "execute_result"
    }
   ],
   "source": [
    "# Visualisation du df web\n",
    "\n",
    "web.shape"
   ]
  },
  {
   "cell_type": "code",
   "execution_count": 8,
   "id": "31f44977",
   "metadata": {},
   "outputs": [
    {
     "data": {
      "text/plain": [
       "82"
      ]
     },
     "execution_count": 8,
     "metadata": {},
     "output_type": "execute_result"
    }
   ],
   "source": [
    "# Total de doublons sur le df web\n",
    "\n",
    "web.duplicated().sum()"
   ]
  },
  {
   "cell_type": "code",
   "execution_count": 9,
   "id": "0e6f7263",
   "metadata": {},
   "outputs": [],
   "source": [
    "# Suppression des doublons sur le df web\n",
    "\n",
    "web = web.drop_duplicates()"
   ]
  },
  {
   "cell_type": "code",
   "execution_count": 10,
   "id": "cae232c2",
   "metadata": {},
   "outputs": [
    {
     "data": {
      "text/plain": [
       "(1431, 28)"
      ]
     },
     "execution_count": 10,
     "metadata": {},
     "output_type": "execute_result"
    }
   ],
   "source": [
    "# Vérification de la suppression\n",
    "\n",
    "web.shape"
   ]
  },
  {
   "cell_type": "code",
   "execution_count": 11,
   "id": "7c726897",
   "metadata": {},
   "outputs": [
    {
     "data": {
      "text/plain": [
       "sku                         3\n",
       "virtual                     0\n",
       "downloadable                0\n",
       "rating_count                0\n",
       "average_rating              1\n",
       "total_sales                 1\n",
       "tax_status                715\n",
       "tax_class                1431\n",
       "post_author                 1\n",
       "post_date                   1\n",
       "post_date_gmt               1\n",
       "post_content             1431\n",
       "post_title                  1\n",
       "post_excerpt              715\n",
       "post_status                 1\n",
       "comment_status              1\n",
       "ping_status                 1\n",
       "post_password            1431\n",
       "post_name                   1\n",
       "post_modified               1\n",
       "post_modified_gmt           1\n",
       "post_content_filtered    1431\n",
       "post_parent                 1\n",
       "guid                        1\n",
       "menu_order                  1\n",
       "post_type                   1\n",
       "post_mime_type            717\n",
       "comment_count               1\n",
       "dtype: int64"
      ]
     },
     "execution_count": 11,
     "metadata": {},
     "output_type": "execute_result"
    }
   ],
   "source": [
    "# Aperçu du nombre d'éléments null \n",
    "\n",
    "web.isnull().sum()"
   ]
  },
  {
   "cell_type": "code",
   "execution_count": 12,
   "id": "ce7f781c",
   "metadata": {},
   "outputs": [],
   "source": [
    "# Attribution de la valeur 0 aux valeurs manquantes\n",
    "\n",
    "web.fillna(0, inplace=True)"
   ]
  },
  {
   "cell_type": "code",
   "execution_count": 13,
   "id": "6d5bbe03",
   "metadata": {},
   "outputs": [],
   "source": [
    "# Vérification de l'application du fillna\n",
    "\n",
    "#web.isnull().sum()"
   ]
  },
  {
   "cell_type": "code",
   "execution_count": 14,
   "id": "47789541",
   "metadata": {},
   "outputs": [],
   "source": [
    "# Vérification types\n",
    "\n",
    "#web.dtypes"
   ]
  },
  {
   "cell_type": "code",
   "execution_count": 15,
   "id": "40fb6f83",
   "metadata": {},
   "outputs": [
    {
     "data": {
      "text/plain": [
       "(825, 5)"
      ]
     },
     "execution_count": 15,
     "metadata": {},
     "output_type": "execute_result"
    }
   ],
   "source": [
    "# Visualisation du df erp\n",
    "\n",
    "erp.shape"
   ]
  },
  {
   "cell_type": "code",
   "execution_count": 16,
   "id": "aaf94504",
   "metadata": {},
   "outputs": [
    {
     "data": {
      "text/plain": [
       "0"
      ]
     },
     "execution_count": 16,
     "metadata": {},
     "output_type": "execute_result"
    }
   ],
   "source": [
    "# Controle du nombre de doublons \n",
    "\n",
    "erp.duplicated().sum()"
   ]
  },
  {
   "cell_type": "code",
   "execution_count": 17,
   "id": "d9da140b",
   "metadata": {},
   "outputs": [
    {
     "data": {
      "text/plain": [
       "product_id        0\n",
       "onsale_web        0\n",
       "price             0\n",
       "stock_quantity    0\n",
       "stock_status      0\n",
       "dtype: int64"
      ]
     },
     "execution_count": 17,
     "metadata": {},
     "output_type": "execute_result"
    }
   ],
   "source": [
    "# Controle du nombre d'éléments null\n",
    "\n",
    "erp.isnull().sum()"
   ]
  },
  {
   "cell_type": "code",
   "execution_count": 18,
   "id": "028baae8",
   "metadata": {},
   "outputs": [
    {
     "data": {
      "text/plain": [
       "product_id          int64\n",
       "onsale_web          int64\n",
       "price             float64\n",
       "stock_quantity      int64\n",
       "stock_status       object\n",
       "dtype: object"
      ]
     },
     "execution_count": 18,
     "metadata": {},
     "output_type": "execute_result"
    }
   ],
   "source": [
    "# Vérif types\n",
    "\n",
    "erp.dtypes"
   ]
  },
  {
   "cell_type": "code",
   "execution_count": 19,
   "id": "d0448aa4",
   "metadata": {},
   "outputs": [
    {
     "data": {
      "text/plain": [
       "(825, 2)"
      ]
     },
     "execution_count": 19,
     "metadata": {},
     "output_type": "execute_result"
    }
   ],
   "source": [
    "# Visualisation du df liaison \n",
    "\n",
    "liaison.shape"
   ]
  },
  {
   "cell_type": "code",
   "execution_count": 20,
   "id": "2de353b5",
   "metadata": {},
   "outputs": [
    {
     "data": {
      "text/plain": [
       "product_id     0\n",
       "sku           91\n",
       "dtype: int64"
      ]
     },
     "execution_count": 20,
     "metadata": {},
     "output_type": "execute_result"
    }
   ],
   "source": [
    "# Controle du nombre d'éléments null\n",
    "# info sur le mail du projet : \"La liste des product_id est exhaustive, mais pour les\n",
    "# références côté Web,j’en suis moins sûre... \n",
    "# J’ai peiné à rapprocher certaines références.\"\n",
    "# rappel : sku = id_web\n",
    "\n",
    "liaison.isnull().sum()"
   ]
  },
  {
   "cell_type": "code",
   "execution_count": 21,
   "id": "fd0c20a1",
   "metadata": {},
   "outputs": [
    {
     "data": {
      "text/plain": [
       "0"
      ]
     },
     "execution_count": 21,
     "metadata": {},
     "output_type": "execute_result"
    }
   ],
   "source": [
    "# Controle du nombre de doublons \n",
    "\n",
    "liaison.duplicated().sum()"
   ]
  },
  {
   "cell_type": "code",
   "execution_count": 22,
   "id": "16db6f7e",
   "metadata": {},
   "outputs": [
    {
     "data": {
      "text/plain": [
       "product_id     int64\n",
       "sku           object\n",
       "dtype: object"
      ]
     },
     "execution_count": 22,
     "metadata": {},
     "output_type": "execute_result"
    }
   ],
   "source": [
    "# Verif du type\n",
    "\n",
    "liaison.dtypes"
   ]
  },
  {
   "cell_type": "markdown",
   "id": "f574c0c6",
   "metadata": {},
   "source": [
    "# Liaison et nettoyage des DataFrames"
   ]
  },
  {
   "cell_type": "code",
   "execution_count": 23,
   "id": "2e0c68da",
   "metadata": {},
   "outputs": [
    {
     "data": {
      "text/html": [
       "<div>\n",
       "<style scoped>\n",
       "    .dataframe tbody tr th:only-of-type {\n",
       "        vertical-align: middle;\n",
       "    }\n",
       "\n",
       "    .dataframe tbody tr th {\n",
       "        vertical-align: top;\n",
       "    }\n",
       "\n",
       "    .dataframe thead th {\n",
       "        text-align: right;\n",
       "    }\n",
       "</style>\n",
       "<table border=\"1\" class=\"dataframe\">\n",
       "  <thead>\n",
       "    <tr style=\"text-align: right;\">\n",
       "      <th></th>\n",
       "      <th>product_id</th>\n",
       "      <th>onsale_web</th>\n",
       "      <th>price</th>\n",
       "      <th>stock_quantity</th>\n",
       "      <th>stock_status</th>\n",
       "      <th>sku</th>\n",
       "    </tr>\n",
       "  </thead>\n",
       "  <tbody>\n",
       "    <tr>\n",
       "      <th>0</th>\n",
       "      <td>3847</td>\n",
       "      <td>1</td>\n",
       "      <td>24.2</td>\n",
       "      <td>0</td>\n",
       "      <td>outofstock</td>\n",
       "      <td>15298</td>\n",
       "    </tr>\n",
       "    <tr>\n",
       "      <th>1</th>\n",
       "      <td>3849</td>\n",
       "      <td>1</td>\n",
       "      <td>34.3</td>\n",
       "      <td>0</td>\n",
       "      <td>outofstock</td>\n",
       "      <td>15296</td>\n",
       "    </tr>\n",
       "    <tr>\n",
       "      <th>2</th>\n",
       "      <td>3850</td>\n",
       "      <td>1</td>\n",
       "      <td>20.8</td>\n",
       "      <td>0</td>\n",
       "      <td>outofstock</td>\n",
       "      <td>15300</td>\n",
       "    </tr>\n",
       "    <tr>\n",
       "      <th>3</th>\n",
       "      <td>4032</td>\n",
       "      <td>1</td>\n",
       "      <td>14.1</td>\n",
       "      <td>0</td>\n",
       "      <td>outofstock</td>\n",
       "      <td>19814</td>\n",
       "    </tr>\n",
       "    <tr>\n",
       "      <th>4</th>\n",
       "      <td>4039</td>\n",
       "      <td>1</td>\n",
       "      <td>46.0</td>\n",
       "      <td>0</td>\n",
       "      <td>outofstock</td>\n",
       "      <td>19815</td>\n",
       "    </tr>\n",
       "    <tr>\n",
       "      <th>...</th>\n",
       "      <td>...</td>\n",
       "      <td>...</td>\n",
       "      <td>...</td>\n",
       "      <td>...</td>\n",
       "      <td>...</td>\n",
       "      <td>...</td>\n",
       "    </tr>\n",
       "    <tr>\n",
       "      <th>820</th>\n",
       "      <td>7203</td>\n",
       "      <td>0</td>\n",
       "      <td>45.0</td>\n",
       "      <td>30</td>\n",
       "      <td>instock</td>\n",
       "      <td>NaN</td>\n",
       "    </tr>\n",
       "    <tr>\n",
       "      <th>821</th>\n",
       "      <td>7204</td>\n",
       "      <td>0</td>\n",
       "      <td>45.0</td>\n",
       "      <td>9</td>\n",
       "      <td>instock</td>\n",
       "      <td>NaN</td>\n",
       "    </tr>\n",
       "    <tr>\n",
       "      <th>822</th>\n",
       "      <td>7247</td>\n",
       "      <td>1</td>\n",
       "      <td>54.8</td>\n",
       "      <td>23</td>\n",
       "      <td>instock</td>\n",
       "      <td>13127-1</td>\n",
       "    </tr>\n",
       "    <tr>\n",
       "      <th>823</th>\n",
       "      <td>7329</td>\n",
       "      <td>0</td>\n",
       "      <td>26.5</td>\n",
       "      <td>14</td>\n",
       "      <td>instock</td>\n",
       "      <td>14680-1</td>\n",
       "    </tr>\n",
       "    <tr>\n",
       "      <th>824</th>\n",
       "      <td>7338</td>\n",
       "      <td>1</td>\n",
       "      <td>16.3</td>\n",
       "      <td>45</td>\n",
       "      <td>instock</td>\n",
       "      <td>16230</td>\n",
       "    </tr>\n",
       "  </tbody>\n",
       "</table>\n",
       "<p>825 rows × 6 columns</p>\n",
       "</div>"
      ],
      "text/plain": [
       "     product_id  onsale_web  price  stock_quantity stock_status      sku\n",
       "0          3847           1   24.2               0   outofstock    15298\n",
       "1          3849           1   34.3               0   outofstock    15296\n",
       "2          3850           1   20.8               0   outofstock    15300\n",
       "3          4032           1   14.1               0   outofstock    19814\n",
       "4          4039           1   46.0               0   outofstock    19815\n",
       "..          ...         ...    ...             ...          ...      ...\n",
       "820        7203           0   45.0              30      instock      NaN\n",
       "821        7204           0   45.0               9      instock      NaN\n",
       "822        7247           1   54.8              23      instock  13127-1\n",
       "823        7329           0   26.5              14      instock  14680-1\n",
       "824        7338           1   16.3              45      instock    16230\n",
       "\n",
       "[825 rows x 6 columns]"
      ]
     },
     "execution_count": 23,
     "metadata": {},
     "output_type": "execute_result"
    }
   ],
   "source": [
    "# Fusion entre les df erp et liaison \n",
    "\n",
    "erp_liaison = pd.merge(erp, liaison, on='product_id' ) \n",
    "erp_liaison"
   ]
  },
  {
   "cell_type": "code",
   "execution_count": 24,
   "id": "b1a0d487",
   "metadata": {},
   "outputs": [
    {
     "data": {
      "text/html": [
       "<div>\n",
       "<style scoped>\n",
       "    .dataframe tbody tr th:only-of-type {\n",
       "        vertical-align: middle;\n",
       "    }\n",
       "\n",
       "    .dataframe tbody tr th {\n",
       "        vertical-align: top;\n",
       "    }\n",
       "\n",
       "    .dataframe thead th {\n",
       "        text-align: right;\n",
       "    }\n",
       "</style>\n",
       "<table border=\"1\" class=\"dataframe\">\n",
       "  <thead>\n",
       "    <tr style=\"text-align: right;\">\n",
       "      <th></th>\n",
       "      <th>sku</th>\n",
       "      <th>virtual</th>\n",
       "      <th>downloadable</th>\n",
       "      <th>rating_count</th>\n",
       "      <th>average_rating</th>\n",
       "      <th>total_sales</th>\n",
       "      <th>tax_status</th>\n",
       "      <th>tax_class</th>\n",
       "      <th>post_author</th>\n",
       "      <th>post_date</th>\n",
       "      <th>...</th>\n",
       "      <th>guid</th>\n",
       "      <th>menu_order</th>\n",
       "      <th>post_type</th>\n",
       "      <th>post_mime_type</th>\n",
       "      <th>comment_count</th>\n",
       "      <th>product_id</th>\n",
       "      <th>onsale_web</th>\n",
       "      <th>price</th>\n",
       "      <th>stock_quantity</th>\n",
       "      <th>stock_status</th>\n",
       "    </tr>\n",
       "  </thead>\n",
       "  <tbody>\n",
       "    <tr>\n",
       "      <th>0</th>\n",
       "      <td>bon-cadeau-25-euros</td>\n",
       "      <td>0.0</td>\n",
       "      <td>0.0</td>\n",
       "      <td>0.0</td>\n",
       "      <td>0.0</td>\n",
       "      <td>10.0</td>\n",
       "      <td>taxable</td>\n",
       "      <td>0.0</td>\n",
       "      <td>1.0</td>\n",
       "      <td>2018-06-01 13:53:46</td>\n",
       "      <td>...</td>\n",
       "      <td>https://www.bottle-neck.fr/?post_type=product&amp;...</td>\n",
       "      <td>0.0</td>\n",
       "      <td>product</td>\n",
       "      <td>0</td>\n",
       "      <td>0.0</td>\n",
       "      <td>4954.0</td>\n",
       "      <td>1.0</td>\n",
       "      <td>25.0</td>\n",
       "      <td>0.0</td>\n",
       "      <td>instock</td>\n",
       "    </tr>\n",
       "    <tr>\n",
       "      <th>1</th>\n",
       "      <td>bon-cadeau-25-euros</td>\n",
       "      <td>0.0</td>\n",
       "      <td>0.0</td>\n",
       "      <td>0.0</td>\n",
       "      <td>0.0</td>\n",
       "      <td>10.0</td>\n",
       "      <td>0</td>\n",
       "      <td>0.0</td>\n",
       "      <td>1.0</td>\n",
       "      <td>2018-06-01 13:53:46</td>\n",
       "      <td>...</td>\n",
       "      <td>https://www.bottle-neck.fr/wp-content/uploads/...</td>\n",
       "      <td>0.0</td>\n",
       "      <td>attachment</td>\n",
       "      <td>image/jpeg</td>\n",
       "      <td>0.0</td>\n",
       "      <td>4954.0</td>\n",
       "      <td>1.0</td>\n",
       "      <td>25.0</td>\n",
       "      <td>0.0</td>\n",
       "      <td>instock</td>\n",
       "    </tr>\n",
       "    <tr>\n",
       "      <th>2</th>\n",
       "      <td>15298</td>\n",
       "      <td>0.0</td>\n",
       "      <td>0.0</td>\n",
       "      <td>0.0</td>\n",
       "      <td>0.0</td>\n",
       "      <td>6.0</td>\n",
       "      <td>taxable</td>\n",
       "      <td>0.0</td>\n",
       "      <td>2.0</td>\n",
       "      <td>2018-02-08 12:58:52</td>\n",
       "      <td>...</td>\n",
       "      <td>https://www.bottle-neck.fr/?post_type=product&amp;...</td>\n",
       "      <td>0.0</td>\n",
       "      <td>product</td>\n",
       "      <td>0</td>\n",
       "      <td>0.0</td>\n",
       "      <td>3847.0</td>\n",
       "      <td>1.0</td>\n",
       "      <td>24.2</td>\n",
       "      <td>0.0</td>\n",
       "      <td>outofstock</td>\n",
       "    </tr>\n",
       "    <tr>\n",
       "      <th>3</th>\n",
       "      <td>15298</td>\n",
       "      <td>0.0</td>\n",
       "      <td>0.0</td>\n",
       "      <td>0.0</td>\n",
       "      <td>0.0</td>\n",
       "      <td>6.0</td>\n",
       "      <td>0</td>\n",
       "      <td>0.0</td>\n",
       "      <td>2.0</td>\n",
       "      <td>2018-02-08 12:58:52</td>\n",
       "      <td>...</td>\n",
       "      <td>https://www.bottle-neck.fr/wp-content/uploads/...</td>\n",
       "      <td>0.0</td>\n",
       "      <td>attachment</td>\n",
       "      <td>image/jpeg</td>\n",
       "      <td>0.0</td>\n",
       "      <td>3847.0</td>\n",
       "      <td>1.0</td>\n",
       "      <td>24.2</td>\n",
       "      <td>0.0</td>\n",
       "      <td>outofstock</td>\n",
       "    </tr>\n",
       "    <tr>\n",
       "      <th>4</th>\n",
       "      <td>15296</td>\n",
       "      <td>0.0</td>\n",
       "      <td>0.0</td>\n",
       "      <td>0.0</td>\n",
       "      <td>0.0</td>\n",
       "      <td>0.0</td>\n",
       "      <td>taxable</td>\n",
       "      <td>0.0</td>\n",
       "      <td>2.0</td>\n",
       "      <td>2018-02-08 13:49:41</td>\n",
       "      <td>...</td>\n",
       "      <td>https://www.bottle-neck.fr/?post_type=product&amp;...</td>\n",
       "      <td>0.0</td>\n",
       "      <td>product</td>\n",
       "      <td>0</td>\n",
       "      <td>0.0</td>\n",
       "      <td>3849.0</td>\n",
       "      <td>1.0</td>\n",
       "      <td>34.3</td>\n",
       "      <td>0.0</td>\n",
       "      <td>outofstock</td>\n",
       "    </tr>\n",
       "    <tr>\n",
       "      <th>...</th>\n",
       "      <td>...</td>\n",
       "      <td>...</td>\n",
       "      <td>...</td>\n",
       "      <td>...</td>\n",
       "      <td>...</td>\n",
       "      <td>...</td>\n",
       "      <td>...</td>\n",
       "      <td>...</td>\n",
       "      <td>...</td>\n",
       "      <td>...</td>\n",
       "      <td>...</td>\n",
       "      <td>...</td>\n",
       "      <td>...</td>\n",
       "      <td>...</td>\n",
       "      <td>...</td>\n",
       "      <td>...</td>\n",
       "      <td>...</td>\n",
       "      <td>...</td>\n",
       "      <td>...</td>\n",
       "      <td>...</td>\n",
       "      <td>...</td>\n",
       "    </tr>\n",
       "    <tr>\n",
       "      <th>1537</th>\n",
       "      <td>15609</td>\n",
       "      <td>NaN</td>\n",
       "      <td>NaN</td>\n",
       "      <td>NaN</td>\n",
       "      <td>NaN</td>\n",
       "      <td>NaN</td>\n",
       "      <td>NaN</td>\n",
       "      <td>NaN</td>\n",
       "      <td>NaN</td>\n",
       "      <td>NaN</td>\n",
       "      <td>...</td>\n",
       "      <td>NaN</td>\n",
       "      <td>NaN</td>\n",
       "      <td>NaN</td>\n",
       "      <td>NaN</td>\n",
       "      <td>NaN</td>\n",
       "      <td>5954.0</td>\n",
       "      <td>0.0</td>\n",
       "      <td>18.8</td>\n",
       "      <td>0.0</td>\n",
       "      <td>outofstock</td>\n",
       "    </tr>\n",
       "    <tr>\n",
       "      <th>1538</th>\n",
       "      <td>14377</td>\n",
       "      <td>NaN</td>\n",
       "      <td>NaN</td>\n",
       "      <td>NaN</td>\n",
       "      <td>NaN</td>\n",
       "      <td>NaN</td>\n",
       "      <td>NaN</td>\n",
       "      <td>NaN</td>\n",
       "      <td>NaN</td>\n",
       "      <td>NaN</td>\n",
       "      <td>...</td>\n",
       "      <td>NaN</td>\n",
       "      <td>NaN</td>\n",
       "      <td>NaN</td>\n",
       "      <td>NaN</td>\n",
       "      <td>NaN</td>\n",
       "      <td>5955.0</td>\n",
       "      <td>0.0</td>\n",
       "      <td>27.3</td>\n",
       "      <td>0.0</td>\n",
       "      <td>outofstock</td>\n",
       "    </tr>\n",
       "    <tr>\n",
       "      <th>1539</th>\n",
       "      <td>13577</td>\n",
       "      <td>NaN</td>\n",
       "      <td>NaN</td>\n",
       "      <td>NaN</td>\n",
       "      <td>NaN</td>\n",
       "      <td>NaN</td>\n",
       "      <td>NaN</td>\n",
       "      <td>NaN</td>\n",
       "      <td>NaN</td>\n",
       "      <td>NaN</td>\n",
       "      <td>...</td>\n",
       "      <td>NaN</td>\n",
       "      <td>NaN</td>\n",
       "      <td>NaN</td>\n",
       "      <td>NaN</td>\n",
       "      <td>NaN</td>\n",
       "      <td>5957.0</td>\n",
       "      <td>0.0</td>\n",
       "      <td>39.0</td>\n",
       "      <td>0.0</td>\n",
       "      <td>outofstock</td>\n",
       "    </tr>\n",
       "    <tr>\n",
       "      <th>1540</th>\n",
       "      <td>15529</td>\n",
       "      <td>NaN</td>\n",
       "      <td>NaN</td>\n",
       "      <td>NaN</td>\n",
       "      <td>NaN</td>\n",
       "      <td>NaN</td>\n",
       "      <td>NaN</td>\n",
       "      <td>NaN</td>\n",
       "      <td>NaN</td>\n",
       "      <td>NaN</td>\n",
       "      <td>...</td>\n",
       "      <td>NaN</td>\n",
       "      <td>NaN</td>\n",
       "      <td>NaN</td>\n",
       "      <td>NaN</td>\n",
       "      <td>NaN</td>\n",
       "      <td>6100.0</td>\n",
       "      <td>0.0</td>\n",
       "      <td>12.9</td>\n",
       "      <td>0.0</td>\n",
       "      <td>outofstock</td>\n",
       "    </tr>\n",
       "    <tr>\n",
       "      <th>1541</th>\n",
       "      <td>14680-1</td>\n",
       "      <td>NaN</td>\n",
       "      <td>NaN</td>\n",
       "      <td>NaN</td>\n",
       "      <td>NaN</td>\n",
       "      <td>NaN</td>\n",
       "      <td>NaN</td>\n",
       "      <td>NaN</td>\n",
       "      <td>NaN</td>\n",
       "      <td>NaN</td>\n",
       "      <td>...</td>\n",
       "      <td>NaN</td>\n",
       "      <td>NaN</td>\n",
       "      <td>NaN</td>\n",
       "      <td>NaN</td>\n",
       "      <td>NaN</td>\n",
       "      <td>7329.0</td>\n",
       "      <td>0.0</td>\n",
       "      <td>26.5</td>\n",
       "      <td>14.0</td>\n",
       "      <td>instock</td>\n",
       "    </tr>\n",
       "  </tbody>\n",
       "</table>\n",
       "<p>1542 rows × 33 columns</p>\n",
       "</div>"
      ],
      "text/plain": [
       "                      sku  virtual  downloadable  rating_count  \\\n",
       "0     bon-cadeau-25-euros      0.0           0.0           0.0   \n",
       "1     bon-cadeau-25-euros      0.0           0.0           0.0   \n",
       "2                   15298      0.0           0.0           0.0   \n",
       "3                   15298      0.0           0.0           0.0   \n",
       "4                   15296      0.0           0.0           0.0   \n",
       "...                   ...      ...           ...           ...   \n",
       "1537                15609      NaN           NaN           NaN   \n",
       "1538                14377      NaN           NaN           NaN   \n",
       "1539                13577      NaN           NaN           NaN   \n",
       "1540                15529      NaN           NaN           NaN   \n",
       "1541              14680-1      NaN           NaN           NaN   \n",
       "\n",
       "      average_rating  total_sales tax_status  tax_class  post_author  \\\n",
       "0                0.0         10.0    taxable        0.0          1.0   \n",
       "1                0.0         10.0          0        0.0          1.0   \n",
       "2                0.0          6.0    taxable        0.0          2.0   \n",
       "3                0.0          6.0          0        0.0          2.0   \n",
       "4                0.0          0.0    taxable        0.0          2.0   \n",
       "...              ...          ...        ...        ...          ...   \n",
       "1537             NaN          NaN        NaN        NaN          NaN   \n",
       "1538             NaN          NaN        NaN        NaN          NaN   \n",
       "1539             NaN          NaN        NaN        NaN          NaN   \n",
       "1540             NaN          NaN        NaN        NaN          NaN   \n",
       "1541             NaN          NaN        NaN        NaN          NaN   \n",
       "\n",
       "                post_date  ...  \\\n",
       "0     2018-06-01 13:53:46  ...   \n",
       "1     2018-06-01 13:53:46  ...   \n",
       "2     2018-02-08 12:58:52  ...   \n",
       "3     2018-02-08 12:58:52  ...   \n",
       "4     2018-02-08 13:49:41  ...   \n",
       "...                   ...  ...   \n",
       "1537                  NaN  ...   \n",
       "1538                  NaN  ...   \n",
       "1539                  NaN  ...   \n",
       "1540                  NaN  ...   \n",
       "1541                  NaN  ...   \n",
       "\n",
       "                                                   guid  menu_order  \\\n",
       "0     https://www.bottle-neck.fr/?post_type=product&...         0.0   \n",
       "1     https://www.bottle-neck.fr/wp-content/uploads/...         0.0   \n",
       "2     https://www.bottle-neck.fr/?post_type=product&...         0.0   \n",
       "3     https://www.bottle-neck.fr/wp-content/uploads/...         0.0   \n",
       "4     https://www.bottle-neck.fr/?post_type=product&...         0.0   \n",
       "...                                                 ...         ...   \n",
       "1537                                                NaN         NaN   \n",
       "1538                                                NaN         NaN   \n",
       "1539                                                NaN         NaN   \n",
       "1540                                                NaN         NaN   \n",
       "1541                                                NaN         NaN   \n",
       "\n",
       "       post_type post_mime_type comment_count product_id onsale_web  price  \\\n",
       "0        product              0           0.0     4954.0        1.0   25.0   \n",
       "1     attachment     image/jpeg           0.0     4954.0        1.0   25.0   \n",
       "2        product              0           0.0     3847.0        1.0   24.2   \n",
       "3     attachment     image/jpeg           0.0     3847.0        1.0   24.2   \n",
       "4        product              0           0.0     3849.0        1.0   34.3   \n",
       "...          ...            ...           ...        ...        ...    ...   \n",
       "1537         NaN            NaN           NaN     5954.0        0.0   18.8   \n",
       "1538         NaN            NaN           NaN     5955.0        0.0   27.3   \n",
       "1539         NaN            NaN           NaN     5957.0        0.0   39.0   \n",
       "1540         NaN            NaN           NaN     6100.0        0.0   12.9   \n",
       "1541         NaN            NaN           NaN     7329.0        0.0   26.5   \n",
       "\n",
       "     stock_quantity stock_status  \n",
       "0               0.0      instock  \n",
       "1               0.0      instock  \n",
       "2               0.0   outofstock  \n",
       "3               0.0   outofstock  \n",
       "4               0.0   outofstock  \n",
       "...             ...          ...  \n",
       "1537            0.0   outofstock  \n",
       "1538            0.0   outofstock  \n",
       "1539            0.0   outofstock  \n",
       "1540            0.0   outofstock  \n",
       "1541           14.0      instock  \n",
       "\n",
       "[1542 rows x 33 columns]"
      ]
     },
     "execution_count": 24,
     "metadata": {},
     "output_type": "execute_result"
    }
   ],
   "source": [
    "# Fusion entre les df erp, liaison et web\n",
    "\n",
    "erp_web = pd.merge(web, erp_liaison, on='sku',how='outer') \n",
    "erp_web"
   ]
  },
  {
   "cell_type": "code",
   "execution_count": 25,
   "id": "3754a0fb",
   "metadata": {},
   "outputs": [],
   "source": [
    "# Suppression des NaN\n",
    "\n",
    "erp_web.dropna(inplace=True)"
   ]
  },
  {
   "cell_type": "code",
   "execution_count": 26,
   "id": "c908366f",
   "metadata": {},
   "outputs": [
    {
     "data": {
      "text/plain": [
       "0"
      ]
     },
     "execution_count": 26,
     "metadata": {},
     "output_type": "execute_result"
    }
   ],
   "source": [
    "# Verification des doublons \n",
    "\n",
    "erp_web.duplicated().sum()"
   ]
  },
  {
   "cell_type": "code",
   "execution_count": 27,
   "id": "50876146",
   "metadata": {
    "scrolled": true
   },
   "outputs": [
    {
     "data": {
      "text/html": [
       "<div>\n",
       "<style scoped>\n",
       "    .dataframe tbody tr th:only-of-type {\n",
       "        vertical-align: middle;\n",
       "    }\n",
       "\n",
       "    .dataframe tbody tr th {\n",
       "        vertical-align: top;\n",
       "    }\n",
       "\n",
       "    .dataframe thead th {\n",
       "        text-align: right;\n",
       "    }\n",
       "</style>\n",
       "<table border=\"1\" class=\"dataframe\">\n",
       "  <thead>\n",
       "    <tr style=\"text-align: right;\">\n",
       "      <th></th>\n",
       "      <th>sku</th>\n",
       "      <th>virtual</th>\n",
       "      <th>downloadable</th>\n",
       "      <th>rating_count</th>\n",
       "      <th>average_rating</th>\n",
       "      <th>total_sales</th>\n",
       "      <th>tax_status</th>\n",
       "      <th>tax_class</th>\n",
       "      <th>post_author</th>\n",
       "      <th>post_date</th>\n",
       "      <th>...</th>\n",
       "      <th>guid</th>\n",
       "      <th>menu_order</th>\n",
       "      <th>post_type</th>\n",
       "      <th>post_mime_type</th>\n",
       "      <th>comment_count</th>\n",
       "      <th>product_id</th>\n",
       "      <th>onsale_web</th>\n",
       "      <th>price</th>\n",
       "      <th>stock_quantity</th>\n",
       "      <th>stock_status</th>\n",
       "    </tr>\n",
       "  </thead>\n",
       "  <tbody>\n",
       "    <tr>\n",
       "      <th>0</th>\n",
       "      <td>bon-cadeau-25-euros</td>\n",
       "      <td>0.0</td>\n",
       "      <td>0.0</td>\n",
       "      <td>0.0</td>\n",
       "      <td>0.0</td>\n",
       "      <td>10.0</td>\n",
       "      <td>taxable</td>\n",
       "      <td>0.0</td>\n",
       "      <td>1.0</td>\n",
       "      <td>2018-06-01 13:53:46</td>\n",
       "      <td>...</td>\n",
       "      <td>https://www.bottle-neck.fr/?post_type=product&amp;...</td>\n",
       "      <td>0.0</td>\n",
       "      <td>product</td>\n",
       "      <td>0</td>\n",
       "      <td>0.0</td>\n",
       "      <td>4954.0</td>\n",
       "      <td>1.0</td>\n",
       "      <td>25.0</td>\n",
       "      <td>0.0</td>\n",
       "      <td>instock</td>\n",
       "    </tr>\n",
       "    <tr>\n",
       "      <th>1</th>\n",
       "      <td>bon-cadeau-25-euros</td>\n",
       "      <td>0.0</td>\n",
       "      <td>0.0</td>\n",
       "      <td>0.0</td>\n",
       "      <td>0.0</td>\n",
       "      <td>10.0</td>\n",
       "      <td>0</td>\n",
       "      <td>0.0</td>\n",
       "      <td>1.0</td>\n",
       "      <td>2018-06-01 13:53:46</td>\n",
       "      <td>...</td>\n",
       "      <td>https://www.bottle-neck.fr/wp-content/uploads/...</td>\n",
       "      <td>0.0</td>\n",
       "      <td>attachment</td>\n",
       "      <td>image/jpeg</td>\n",
       "      <td>0.0</td>\n",
       "      <td>4954.0</td>\n",
       "      <td>1.0</td>\n",
       "      <td>25.0</td>\n",
       "      <td>0.0</td>\n",
       "      <td>instock</td>\n",
       "    </tr>\n",
       "    <tr>\n",
       "      <th>2</th>\n",
       "      <td>15298</td>\n",
       "      <td>0.0</td>\n",
       "      <td>0.0</td>\n",
       "      <td>0.0</td>\n",
       "      <td>0.0</td>\n",
       "      <td>6.0</td>\n",
       "      <td>taxable</td>\n",
       "      <td>0.0</td>\n",
       "      <td>2.0</td>\n",
       "      <td>2018-02-08 12:58:52</td>\n",
       "      <td>...</td>\n",
       "      <td>https://www.bottle-neck.fr/?post_type=product&amp;...</td>\n",
       "      <td>0.0</td>\n",
       "      <td>product</td>\n",
       "      <td>0</td>\n",
       "      <td>0.0</td>\n",
       "      <td>3847.0</td>\n",
       "      <td>1.0</td>\n",
       "      <td>24.2</td>\n",
       "      <td>0.0</td>\n",
       "      <td>outofstock</td>\n",
       "    </tr>\n",
       "    <tr>\n",
       "      <th>3</th>\n",
       "      <td>15298</td>\n",
       "      <td>0.0</td>\n",
       "      <td>0.0</td>\n",
       "      <td>0.0</td>\n",
       "      <td>0.0</td>\n",
       "      <td>6.0</td>\n",
       "      <td>0</td>\n",
       "      <td>0.0</td>\n",
       "      <td>2.0</td>\n",
       "      <td>2018-02-08 12:58:52</td>\n",
       "      <td>...</td>\n",
       "      <td>https://www.bottle-neck.fr/wp-content/uploads/...</td>\n",
       "      <td>0.0</td>\n",
       "      <td>attachment</td>\n",
       "      <td>image/jpeg</td>\n",
       "      <td>0.0</td>\n",
       "      <td>3847.0</td>\n",
       "      <td>1.0</td>\n",
       "      <td>24.2</td>\n",
       "      <td>0.0</td>\n",
       "      <td>outofstock</td>\n",
       "    </tr>\n",
       "    <tr>\n",
       "      <th>4</th>\n",
       "      <td>15296</td>\n",
       "      <td>0.0</td>\n",
       "      <td>0.0</td>\n",
       "      <td>0.0</td>\n",
       "      <td>0.0</td>\n",
       "      <td>0.0</td>\n",
       "      <td>taxable</td>\n",
       "      <td>0.0</td>\n",
       "      <td>2.0</td>\n",
       "      <td>2018-02-08 13:49:41</td>\n",
       "      <td>...</td>\n",
       "      <td>https://www.bottle-neck.fr/?post_type=product&amp;...</td>\n",
       "      <td>0.0</td>\n",
       "      <td>product</td>\n",
       "      <td>0</td>\n",
       "      <td>0.0</td>\n",
       "      <td>3849.0</td>\n",
       "      <td>1.0</td>\n",
       "      <td>34.3</td>\n",
       "      <td>0.0</td>\n",
       "      <td>outofstock</td>\n",
       "    </tr>\n",
       "  </tbody>\n",
       "</table>\n",
       "<p>5 rows × 33 columns</p>\n",
       "</div>"
      ],
      "text/plain": [
       "                   sku  virtual  downloadable  rating_count  average_rating  \\\n",
       "0  bon-cadeau-25-euros      0.0           0.0           0.0             0.0   \n",
       "1  bon-cadeau-25-euros      0.0           0.0           0.0             0.0   \n",
       "2                15298      0.0           0.0           0.0             0.0   \n",
       "3                15298      0.0           0.0           0.0             0.0   \n",
       "4                15296      0.0           0.0           0.0             0.0   \n",
       "\n",
       "   total_sales tax_status  tax_class  post_author            post_date  ...  \\\n",
       "0         10.0    taxable        0.0          1.0  2018-06-01 13:53:46  ...   \n",
       "1         10.0          0        0.0          1.0  2018-06-01 13:53:46  ...   \n",
       "2          6.0    taxable        0.0          2.0  2018-02-08 12:58:52  ...   \n",
       "3          6.0          0        0.0          2.0  2018-02-08 12:58:52  ...   \n",
       "4          0.0    taxable        0.0          2.0  2018-02-08 13:49:41  ...   \n",
       "\n",
       "                                                guid  menu_order   post_type  \\\n",
       "0  https://www.bottle-neck.fr/?post_type=product&...         0.0     product   \n",
       "1  https://www.bottle-neck.fr/wp-content/uploads/...         0.0  attachment   \n",
       "2  https://www.bottle-neck.fr/?post_type=product&...         0.0     product   \n",
       "3  https://www.bottle-neck.fr/wp-content/uploads/...         0.0  attachment   \n",
       "4  https://www.bottle-neck.fr/?post_type=product&...         0.0     product   \n",
       "\n",
       "  post_mime_type comment_count product_id onsale_web  price stock_quantity  \\\n",
       "0              0           0.0     4954.0        1.0   25.0            0.0   \n",
       "1     image/jpeg           0.0     4954.0        1.0   25.0            0.0   \n",
       "2              0           0.0     3847.0        1.0   24.2            0.0   \n",
       "3     image/jpeg           0.0     3847.0        1.0   24.2            0.0   \n",
       "4              0           0.0     3849.0        1.0   34.3            0.0   \n",
       "\n",
       "  stock_status  \n",
       "0      instock  \n",
       "1      instock  \n",
       "2   outofstock  \n",
       "3   outofstock  \n",
       "4   outofstock  \n",
       "\n",
       "[5 rows x 33 columns]"
      ]
     },
     "execution_count": 27,
     "metadata": {},
     "output_type": "execute_result"
    }
   ],
   "source": [
    "# Aperçu du df\n",
    "# Remarque : présence de doublons mais avec une variable differente \n",
    "# ( voir tax_status ou post_type)\n",
    "\n",
    "erp_web.head(5)"
   ]
  },
  {
   "cell_type": "code",
   "execution_count": 28,
   "id": "72df881c",
   "metadata": {},
   "outputs": [],
   "source": [
    "# Suppression des lignes inutiles faisant 'doublons' \n",
    "\n",
    "erp_web = erp_web.loc[erp_web[\"post_type\"]== \"product\"]"
   ]
  },
  {
   "cell_type": "code",
   "execution_count": 29,
   "id": "e5c41066",
   "metadata": {},
   "outputs": [
    {
     "data": {
      "text/plain": [
       "(714, 33)"
      ]
     },
     "execution_count": 29,
     "metadata": {},
     "output_type": "execute_result"
    }
   ],
   "source": [
    "# Verification de la modification du df\n",
    "\n",
    "erp_web.shape"
   ]
  },
  {
   "cell_type": "markdown",
   "id": "da7b2b3d",
   "metadata": {},
   "source": [
    "# Détermination du Chiffre d'Affaire par produit ainsi que le montant total"
   ]
  },
  {
   "cell_type": "code",
   "execution_count": 30,
   "id": "4d0934ad",
   "metadata": {
    "scrolled": false
   },
   "outputs": [
    {
     "name": "stderr",
     "output_type": "stream",
     "text": [
      "/var/folders/93/8vxwb4t10x7dvsxz5nyktctm0000gn/T/ipykernel_28141/2813654020.py:3: SettingWithCopyWarning: \n",
      "A value is trying to be set on a copy of a slice from a DataFrame.\n",
      "Try using .loc[row_indexer,col_indexer] = value instead\n",
      "\n",
      "See the caveats in the documentation: https://pandas.pydata.org/pandas-docs/stable/user_guide/indexing.html#returning-a-view-versus-a-copy\n",
      "  erp_web['ca_product'] = erp_web['total_sales'] * erp_web['price']\n"
     ]
    }
   ],
   "source": [
    "# Ajout d'un colonne au df avec le CA par produit \n",
    "\n",
    "erp_web['ca_product'] = erp_web['total_sales'] * erp_web['price']"
   ]
  },
  {
   "cell_type": "code",
   "execution_count": 31,
   "id": "8af5a1f4",
   "metadata": {},
   "outputs": [
    {
     "data": {
      "text/html": [
       "<div>\n",
       "<style scoped>\n",
       "    .dataframe tbody tr th:only-of-type {\n",
       "        vertical-align: middle;\n",
       "    }\n",
       "\n",
       "    .dataframe tbody tr th {\n",
       "        vertical-align: top;\n",
       "    }\n",
       "\n",
       "    .dataframe thead th {\n",
       "        text-align: right;\n",
       "    }\n",
       "</style>\n",
       "<table border=\"1\" class=\"dataframe\">\n",
       "  <thead>\n",
       "    <tr style=\"text-align: right;\">\n",
       "      <th></th>\n",
       "      <th>product_id</th>\n",
       "      <th>ca_product</th>\n",
       "      <th>price</th>\n",
       "      <th>total_sales</th>\n",
       "    </tr>\n",
       "  </thead>\n",
       "  <tbody>\n",
       "    <tr>\n",
       "      <th>0</th>\n",
       "      <td>4334.0</td>\n",
       "      <td>4704.0</td>\n",
       "      <td>49.0</td>\n",
       "      <td>96.0</td>\n",
       "    </tr>\n",
       "    <tr>\n",
       "      <th>1</th>\n",
       "      <td>4144.0</td>\n",
       "      <td>4263.0</td>\n",
       "      <td>49.0</td>\n",
       "      <td>87.0</td>\n",
       "    </tr>\n",
       "    <tr>\n",
       "      <th>2</th>\n",
       "      <td>4402.0</td>\n",
       "      <td>2288.0</td>\n",
       "      <td>176.0</td>\n",
       "      <td>13.0</td>\n",
       "    </tr>\n",
       "    <tr>\n",
       "      <th>3</th>\n",
       "      <td>4142.0</td>\n",
       "      <td>1590.0</td>\n",
       "      <td>53.0</td>\n",
       "      <td>30.0</td>\n",
       "    </tr>\n",
       "    <tr>\n",
       "      <th>4</th>\n",
       "      <td>4141.0</td>\n",
       "      <td>1560.0</td>\n",
       "      <td>39.0</td>\n",
       "      <td>40.0</td>\n",
       "    </tr>\n",
       "    <tr>\n",
       "      <th>...</th>\n",
       "      <td>...</td>\n",
       "      <td>...</td>\n",
       "      <td>...</td>\n",
       "      <td>...</td>\n",
       "    </tr>\n",
       "    <tr>\n",
       "      <th>709</th>\n",
       "      <td>4924.0</td>\n",
       "      <td>0.0</td>\n",
       "      <td>12.8</td>\n",
       "      <td>0.0</td>\n",
       "    </tr>\n",
       "    <tr>\n",
       "      <th>710</th>\n",
       "      <td>4115.0</td>\n",
       "      <td>0.0</td>\n",
       "      <td>100.0</td>\n",
       "      <td>0.0</td>\n",
       "    </tr>\n",
       "    <tr>\n",
       "      <th>711</th>\n",
       "      <td>4130.0</td>\n",
       "      <td>0.0</td>\n",
       "      <td>23.0</td>\n",
       "      <td>0.0</td>\n",
       "    </tr>\n",
       "    <tr>\n",
       "      <th>712</th>\n",
       "      <td>4132.0</td>\n",
       "      <td>0.0</td>\n",
       "      <td>88.4</td>\n",
       "      <td>0.0</td>\n",
       "    </tr>\n",
       "    <tr>\n",
       "      <th>713</th>\n",
       "      <td>7338.0</td>\n",
       "      <td>0.0</td>\n",
       "      <td>16.3</td>\n",
       "      <td>0.0</td>\n",
       "    </tr>\n",
       "  </tbody>\n",
       "</table>\n",
       "<p>714 rows × 4 columns</p>\n",
       "</div>"
      ],
      "text/plain": [
       "     product_id  ca_product  price  total_sales\n",
       "0        4334.0      4704.0   49.0         96.0\n",
       "1        4144.0      4263.0   49.0         87.0\n",
       "2        4402.0      2288.0  176.0         13.0\n",
       "3        4142.0      1590.0   53.0         30.0\n",
       "4        4141.0      1560.0   39.0         40.0\n",
       "..          ...         ...    ...          ...\n",
       "709      4924.0         0.0   12.8          0.0\n",
       "710      4115.0         0.0  100.0          0.0\n",
       "711      4130.0         0.0   23.0          0.0\n",
       "712      4132.0         0.0   88.4          0.0\n",
       "713      7338.0         0.0   16.3          0.0\n",
       "\n",
       "[714 rows x 4 columns]"
      ]
     },
     "execution_count": 31,
     "metadata": {},
     "output_type": "execute_result"
    }
   ],
   "source": [
    "# représentation de la réponse CA par produit\n",
    "\n",
    "l = ['product_id', 'ca_product', 'price', 'total_sales']\n",
    "\n",
    "erp_web_list = erp_web[l].sort_values(by = ['ca_product'], ascending = False)\n",
    "erp_web_list.reset_index(drop=True, inplace=True)\n",
    "erp_web_list"
   ]
  },
  {
   "cell_type": "code",
   "execution_count": 32,
   "id": "60f2d8fa",
   "metadata": {},
   "outputs": [
    {
     "name": "stdout",
     "output_type": "stream",
     "text": [
      " CA vente 70568.6\n"
     ]
    }
   ],
   "source": [
    "# CA vente des produits en ligne\n",
    "\n",
    "print(' CA vente', erp_web['ca_product'].sum())"
   ]
  },
  {
   "cell_type": "markdown",
   "id": "19058bb7",
   "metadata": {},
   "source": [
    "# Détermination et représentation des outliers"
   ]
  },
  {
   "cell_type": "code",
   "execution_count": 33,
   "id": "ad56653c",
   "metadata": {},
   "outputs": [
    {
     "name": "stdout",
     "output_type": "stream",
     "text": [
      "Liste des outliers Z-score:  [100.0, 88.4, 225.0, 126.5, 176.0, 108.5, 157.0, 104.0, 109.6, 102.3, 137.0, 217.5, 105.0, 105.0, 112.0, 92.0, 124.8, 175.0, 191.3, 93.0, 122.0, 114.0, 135.0, 105.6, 116.4, 115.0, 121.0, 99.0, 115.0, 121.0]\n",
      "Total d'outliers avec le Z-score:  30\n",
      "Prix seuil :  88.08\n"
     ]
    },
    {
     "data": {
      "text/html": [
       "<div>\n",
       "<style scoped>\n",
       "    .dataframe tbody tr th:only-of-type {\n",
       "        vertical-align: middle;\n",
       "    }\n",
       "\n",
       "    .dataframe tbody tr th {\n",
       "        vertical-align: top;\n",
       "    }\n",
       "\n",
       "    .dataframe thead th {\n",
       "        text-align: right;\n",
       "    }\n",
       "</style>\n",
       "<table border=\"1\" class=\"dataframe\">\n",
       "  <thead>\n",
       "    <tr style=\"text-align: right;\">\n",
       "      <th></th>\n",
       "      <th>product_id</th>\n",
       "      <th>ca_product</th>\n",
       "      <th>price</th>\n",
       "      <th>total_sales</th>\n",
       "    </tr>\n",
       "  </thead>\n",
       "  <tbody>\n",
       "    <tr>\n",
       "      <th>0</th>\n",
       "      <td>4352.0</td>\n",
       "      <td>1125.0</td>\n",
       "      <td>225.0</td>\n",
       "      <td>5.0</td>\n",
       "    </tr>\n",
       "    <tr>\n",
       "      <th>1</th>\n",
       "      <td>5001.0</td>\n",
       "      <td>0.0</td>\n",
       "      <td>217.5</td>\n",
       "      <td>0.0</td>\n",
       "    </tr>\n",
       "    <tr>\n",
       "      <th>2</th>\n",
       "      <td>5892.0</td>\n",
       "      <td>573.9</td>\n",
       "      <td>191.3</td>\n",
       "      <td>3.0</td>\n",
       "    </tr>\n",
       "    <tr>\n",
       "      <th>3</th>\n",
       "      <td>4402.0</td>\n",
       "      <td>2288.0</td>\n",
       "      <td>176.0</td>\n",
       "      <td>13.0</td>\n",
       "    </tr>\n",
       "    <tr>\n",
       "      <th>4</th>\n",
       "      <td>5767.0</td>\n",
       "      <td>0.0</td>\n",
       "      <td>175.0</td>\n",
       "      <td>0.0</td>\n",
       "    </tr>\n",
       "    <tr>\n",
       "      <th>5</th>\n",
       "      <td>4406.0</td>\n",
       "      <td>0.0</td>\n",
       "      <td>157.0</td>\n",
       "      <td>0.0</td>\n",
       "    </tr>\n",
       "    <tr>\n",
       "      <th>6</th>\n",
       "      <td>4904.0</td>\n",
       "      <td>685.0</td>\n",
       "      <td>137.0</td>\n",
       "      <td>5.0</td>\n",
       "    </tr>\n",
       "    <tr>\n",
       "      <th>7</th>\n",
       "      <td>6126.0</td>\n",
       "      <td>270.0</td>\n",
       "      <td>135.0</td>\n",
       "      <td>2.0</td>\n",
       "    </tr>\n",
       "    <tr>\n",
       "      <th>8</th>\n",
       "      <td>4355.0</td>\n",
       "      <td>1391.5</td>\n",
       "      <td>126.5</td>\n",
       "      <td>11.0</td>\n",
       "    </tr>\n",
       "    <tr>\n",
       "      <th>9</th>\n",
       "      <td>5612.0</td>\n",
       "      <td>0.0</td>\n",
       "      <td>124.8</td>\n",
       "      <td>0.0</td>\n",
       "    </tr>\n",
       "    <tr>\n",
       "      <th>10</th>\n",
       "      <td>5917.0</td>\n",
       "      <td>0.0</td>\n",
       "      <td>122.0</td>\n",
       "      <td>0.0</td>\n",
       "    </tr>\n",
       "    <tr>\n",
       "      <th>11</th>\n",
       "      <td>6216.0</td>\n",
       "      <td>0.0</td>\n",
       "      <td>121.0</td>\n",
       "      <td>0.0</td>\n",
       "    </tr>\n",
       "    <tr>\n",
       "      <th>12</th>\n",
       "      <td>6213.0</td>\n",
       "      <td>0.0</td>\n",
       "      <td>121.0</td>\n",
       "      <td>0.0</td>\n",
       "    </tr>\n",
       "    <tr>\n",
       "      <th>13</th>\n",
       "      <td>6202.0</td>\n",
       "      <td>0.0</td>\n",
       "      <td>116.4</td>\n",
       "      <td>0.0</td>\n",
       "    </tr>\n",
       "    <tr>\n",
       "      <th>14</th>\n",
       "      <td>6215.0</td>\n",
       "      <td>0.0</td>\n",
       "      <td>115.0</td>\n",
       "      <td>0.0</td>\n",
       "    </tr>\n",
       "  </tbody>\n",
       "</table>\n",
       "</div>"
      ],
      "text/plain": [
       "    product_id  ca_product  price  total_sales\n",
       "0       4352.0      1125.0  225.0          5.0\n",
       "1       5001.0         0.0  217.5          0.0\n",
       "2       5892.0       573.9  191.3          3.0\n",
       "3       4402.0      2288.0  176.0         13.0\n",
       "4       5767.0         0.0  175.0          0.0\n",
       "5       4406.0         0.0  157.0          0.0\n",
       "6       4904.0       685.0  137.0          5.0\n",
       "7       6126.0       270.0  135.0          2.0\n",
       "8       4355.0      1391.5  126.5         11.0\n",
       "9       5612.0         0.0  124.8          0.0\n",
       "10      5917.0         0.0  122.0          0.0\n",
       "11      6216.0         0.0  121.0          0.0\n",
       "12      6213.0         0.0  121.0          0.0\n",
       "13      6202.0         0.0  116.4          0.0\n",
       "14      6215.0         0.0  115.0          0.0"
      ]
     },
     "execution_count": 33,
     "metadata": {},
     "output_type": "execute_result"
    }
   ],
   "source": [
    "# détermination des outliers grâce au Z-score (z = (x-μ)/σ)\n",
    "# def Z-score (https://datascience.eu/fr/mathematiques-et-statistiques/quest-ce-quun-z-score/)\n",
    "\n",
    "threshold = 2 # seuil\n",
    "\n",
    "mean = np.mean(erp_web.price) # moyenne\n",
    "std = np.std(erp_web.price) # écart-type empirique\n",
    "\n",
    "# vérification si le z-score de chaque prix est au-dessus du seuil et ne garder que les résultats positifs\n",
    "\n",
    "z_score_outlier = [i for i in erp_web.price if (i-mean)/std > threshold]\n",
    "\n",
    "# liste des outliers Z-score\n",
    "\n",
    "print('Liste des outliers Z-score: ', z_score_outlier)\n",
    "\n",
    "# nombre d'outliers avec le Z-score\n",
    "\n",
    "print(\"Total d'outliers avec le Z-score: \",len(z_score_outlier))\n",
    "\n",
    "# détermination du seuil de prix au-dessus duquel une données est un outliers avec le z-score\n",
    "\n",
    "# (x - mean) / std = 2\n",
    "# x - mean = 2 * std\n",
    "# x = 2 * std + mean\n",
    "\n",
    "seuil_outliers_z = 2 * std + mean\n",
    "print('Prix seuil : ',round((seuil_outliers_z),2))\n",
    "\n",
    "# affichage complet des outliers z-score\n",
    "\n",
    "outliers_z = erp_web.loc[erp_web['price'] > seuil_outliers_z]\n",
    "\n",
    "outliers_list = outliers_z[l].sort_values(by = ['price'], ascending = False)\n",
    "outliers_list.reset_index(drop=True, inplace=True)\n",
    "outliers_list.head(15)\n"
   ]
  },
  {
   "cell_type": "code",
   "execution_count": 34,
   "id": "e4caae64",
   "metadata": {},
   "outputs": [
    {
     "name": "stdout",
     "output_type": "stream",
     "text": [
      "Ecart-type avec la methode standard deviation (std) :  27.79\n"
     ]
    }
   ],
   "source": [
    "# Valeur de l'écart-type methode 1 \n",
    "\n",
    "print( 'Ecart-type avec la methode standard deviation (std) : ', round((std),2))"
   ]
  },
  {
   "cell_type": "code",
   "execution_count": 35,
   "id": "f1df1316",
   "metadata": {},
   "outputs": [
    {
     "name": "stdout",
     "output_type": "stream",
     "text": [
      " Ecart-type avec la methode percentile :  28.08\n"
     ]
    }
   ],
   "source": [
    "# Valeur de l'écart-type methode 2\n",
    "\n",
    "q75, q25 = np.percentile(erp_web['price'], [75 ,25])\n",
    "iqr = q75 - q25\n",
    "\n",
    "print (' Ecart-type avec la methode percentile : ', round((iqr),2))"
   ]
  },
  {
   "cell_type": "code",
   "execution_count": 36,
   "id": "30f54740",
   "metadata": {},
   "outputs": [
    {
     "name": "stdout",
     "output_type": "stream",
     "text": [
      "Prix seuil avec calcul percentile :  84.29\n",
      "Total d'outliers :  32\n"
     ]
    }
   ],
   "source": [
    "max_quartile = q75 + 1.5 * iqr \n",
    "\n",
    "print('Prix seuil avec calcul percentile : ', round((max_quartile),2))\n",
    "\n",
    "data_outliers_m2 = erp_web[erp_web.price > max_quartile]\n",
    "data_outliers_m2\n",
    "\n",
    "print(\"Total d'outliers : \",len(data_outliers_m2))"
   ]
  },
  {
   "cell_type": "markdown",
   "id": "2b65fb3a",
   "metadata": {},
   "source": [
    "## Représentation graphique des outliers"
   ]
  },
  {
   "cell_type": "code",
   "execution_count": 37,
   "id": "a91efe1a",
   "metadata": {
    "scrolled": false
   },
   "outputs": [
    {
     "data": {
      "image/png": "[encoded data removed]",
      "text/plain": [
       "<Figure size 720x720 with 1 Axes>"
      ]
     },
     "metadata": {
      "needs_background": "light"
     },
     "output_type": "display_data"
    }
   ],
   "source": [
    "plt.figure(figsize=(10,10))\n",
    "boxplot = erp_web.boxplot(column=['price'])"
   ]
  },
  {
   "cell_type": "code",
   "execution_count": null,
   "id": "c52e047c",
   "metadata": {},
   "outputs": [],
   "source": []
  }
 ],
 "metadata": {
  "kernelspec": {
   "display_name": "Python 3 (ipykernel)",
   "language": "python",
   "name": "python3"
  },
  "language_info": {
   "codemirror_mode": {
    "name": "ipython",
    "version": 3
   },
   "file_extension": ".py",
   "mimetype": "text/x-python",
   "name": "python",
   "nbconvert_exporter": "python",
   "pygments_lexer": "ipython3",
   "version": "3.9.7"
  }
 },
 "nbformat": 4,
 "nbformat_minor": 5
}
